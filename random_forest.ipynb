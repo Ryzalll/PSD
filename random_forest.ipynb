{
 "cells": [
  {
   "cell_type": "markdown",
   "id": "ed8fe66f",
   "metadata": {},
   "source": [
    "# Random Forest"
   ]
  }
 ],
 "metadata": {
  "language_info": {
   "name": "python"
  }
 },
 "nbformat": 4,
 "nbformat_minor": 5
}
