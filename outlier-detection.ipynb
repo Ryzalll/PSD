{
 "cells": [
  {
   "cell_type": "markdown",
   "id": "23815770",
   "metadata": {},
   "source": [
    "# Deteksi Outlier Iris"
   ]
  },
  {
   "cell_type": "markdown",
   "id": "7bb85299",
   "metadata": {},
   "source": [
    "## Koneksi ke dataset"
   ]
  },
  {
   "cell_type": "code",
   "execution_count": 56,
   "id": "8b3db001",
   "metadata": {},
   "outputs": [
    {
     "name": "stdout",
     "output_type": "stream",
     "text": [
      "Versi Python yang digunakan: 3.11.7 (tags/v3.11.7:fa7a6f2, Dec  4 2023, 19:24:49) [MSC v.1937 64 bit (AMD64)]\n"
     ]
    }
   ],
   "source": [
    "import sys\n",
    "\n",
    "print(\"Versi Python yang digunakan:\", sys.version)"
   ]
  },
  {
   "cell_type": "code",
   "execution_count": 57,
   "id": "c4720f47",
   "metadata": {},
   "outputs": [
    {
     "name": "stdout",
     "output_type": "stream",
     "text": [
      "<class 'pandas.core.frame.DataFrame'>\n",
      "RangeIndex: 150 entries, 0 to 149\n",
      "Data columns (total 6 columns):\n",
      " #   Column        Non-Null Count  Dtype  \n",
      "---  ------        --------------  -----  \n",
      " 0   id            150 non-null    int64  \n",
      " 1   species       150 non-null    object \n",
      " 2   sepal_length  150 non-null    float64\n",
      " 3   sepal_width   150 non-null    float64\n",
      " 4   petal_length  150 non-null    float64\n",
      " 5   petal_width   150 non-null    float64\n",
      "dtypes: float64(4), int64(1), object(1)\n",
      "memory usage: 7.2+ KB\n"
     ]
    },
    {
     "data": {
      "text/plain": [
       "({'shape': (150, 6),\n",
       "  'columns': {'id': dtype('int64'),\n",
       "   'species': dtype('O'),\n",
       "   'sepal_length': dtype('float64'),\n",
       "   'sepal_width': dtype('float64'),\n",
       "   'petal_length': dtype('float64'),\n",
       "   'petal_width': dtype('float64')},\n",
       "  'missing_values': {'id': 0,\n",
       "   'species': 0,\n",
       "   'sepal_length': 0,\n",
       "   'sepal_width': 0,\n",
       "   'petal_length': 0,\n",
       "   'petal_width': 0}},\n",
       "            id      species  sepal_length  sepal_width  petal_length  \\\n",
       " count   150.0          150    150.000000      150.000    150.000000   \n",
       " unique    NaN            3           NaN          NaN           NaN   \n",
       " top       NaN  Iris-setosa           NaN          NaN           NaN   \n",
       " freq      NaN           50           NaN          NaN           NaN   \n",
       " mean     75.5          NaN      5.843333        3.054      3.758667   \n",
       " \n",
       "         petal_width  \n",
       " count    150.000000  \n",
       " unique          NaN  \n",
       " top             NaN  \n",
       " freq            NaN  \n",
       " mean       1.198667  )"
      ]
     },
     "execution_count": 57,
     "metadata": {},
     "output_type": "execute_result"
    }
   ],
   "source": [
    "import nbimporter\n",
    "from koneksi import load_data\n",
    "\n",
    "df = load_data()\n",
    "\n",
    "info = df.info()\n",
    "\n",
    "# Struktur data (kolom, tipe data, jumlah missing values)\n",
    "structure = {\n",
    "    \"shape\": df.shape,\n",
    "    \"columns\": df.dtypes.to_dict(),\n",
    "    \"missing_values\": df.isnull().sum().to_dict()\n",
    "}\n",
    "\n",
    "# Statistik deskriptif\n",
    "desc_stats = df.describe(include=\"all\")\n",
    "\n",
    "# Distribusi kolom numerik\n",
    "distribution = df.hist(figsize=(10, 8))\n",
    "\n",
    "import matplotlib.pyplot as plt\n",
    "plt.tight_layout()\n",
    "plt.close()  # prevent double plot rendering\n",
    "\n",
    "structure, desc_stats.head()"
   ]
  },
  {
   "cell_type": "markdown",
   "id": "f4532405",
   "metadata": {},
   "source": [
    "## Load Model"
   ]
  },
  {
   "cell_type": "markdown",
   "id": "546db4f1",
   "metadata": {},
   "source": [
    "### ABOD (Angel Based Outlier Detection) "
   ]
  },
  {
   "cell_type": "code",
   "execution_count": 58,
   "id": "a418a094",
   "metadata": {},
   "outputs": [
    {
     "data": {
      "text/html": [
       "<style type=\"text/css\">\n",
       "#T_afcd0_row5_col1 {\n",
       "  background-color: lightgreen;\n",
       "}\n",
       "</style>\n",
       "<table id=\"T_afcd0\">\n",
       "  <thead>\n",
       "    <tr>\n",
       "      <th class=\"blank level0\" >&nbsp;</th>\n",
       "      <th id=\"T_afcd0_level0_col0\" class=\"col_heading level0 col0\" >Description</th>\n",
       "      <th id=\"T_afcd0_level0_col1\" class=\"col_heading level0 col1\" >Value</th>\n",
       "    </tr>\n",
       "  </thead>\n",
       "  <tbody>\n",
       "    <tr>\n",
       "      <th id=\"T_afcd0_level0_row0\" class=\"row_heading level0 row0\" >0</th>\n",
       "      <td id=\"T_afcd0_row0_col0\" class=\"data row0 col0\" >Session id</td>\n",
       "      <td id=\"T_afcd0_row0_col1\" class=\"data row0 col1\" >5794</td>\n",
       "    </tr>\n",
       "    <tr>\n",
       "      <th id=\"T_afcd0_level0_row1\" class=\"row_heading level0 row1\" >1</th>\n",
       "      <td id=\"T_afcd0_row1_col0\" class=\"data row1 col0\" >Original data shape</td>\n",
       "      <td id=\"T_afcd0_row1_col1\" class=\"data row1 col1\" >(150, 6)</td>\n",
       "    </tr>\n",
       "    <tr>\n",
       "      <th id=\"T_afcd0_level0_row2\" class=\"row_heading level0 row2\" >2</th>\n",
       "      <td id=\"T_afcd0_row2_col0\" class=\"data row2 col0\" >Transformed data shape</td>\n",
       "      <td id=\"T_afcd0_row2_col1\" class=\"data row2 col1\" >(150, 8)</td>\n",
       "    </tr>\n",
       "    <tr>\n",
       "      <th id=\"T_afcd0_level0_row3\" class=\"row_heading level0 row3\" >3</th>\n",
       "      <td id=\"T_afcd0_row3_col0\" class=\"data row3 col0\" >Numeric features</td>\n",
       "      <td id=\"T_afcd0_row3_col1\" class=\"data row3 col1\" >5</td>\n",
       "    </tr>\n",
       "    <tr>\n",
       "      <th id=\"T_afcd0_level0_row4\" class=\"row_heading level0 row4\" >4</th>\n",
       "      <td id=\"T_afcd0_row4_col0\" class=\"data row4 col0\" >Categorical features</td>\n",
       "      <td id=\"T_afcd0_row4_col1\" class=\"data row4 col1\" >1</td>\n",
       "    </tr>\n",
       "    <tr>\n",
       "      <th id=\"T_afcd0_level0_row5\" class=\"row_heading level0 row5\" >5</th>\n",
       "      <td id=\"T_afcd0_row5_col0\" class=\"data row5 col0\" >Preprocess</td>\n",
       "      <td id=\"T_afcd0_row5_col1\" class=\"data row5 col1\" >True</td>\n",
       "    </tr>\n",
       "    <tr>\n",
       "      <th id=\"T_afcd0_level0_row6\" class=\"row_heading level0 row6\" >6</th>\n",
       "      <td id=\"T_afcd0_row6_col0\" class=\"data row6 col0\" >Imputation type</td>\n",
       "      <td id=\"T_afcd0_row6_col1\" class=\"data row6 col1\" >simple</td>\n",
       "    </tr>\n",
       "    <tr>\n",
       "      <th id=\"T_afcd0_level0_row7\" class=\"row_heading level0 row7\" >7</th>\n",
       "      <td id=\"T_afcd0_row7_col0\" class=\"data row7 col0\" >Numeric imputation</td>\n",
       "      <td id=\"T_afcd0_row7_col1\" class=\"data row7 col1\" >mean</td>\n",
       "    </tr>\n",
       "    <tr>\n",
       "      <th id=\"T_afcd0_level0_row8\" class=\"row_heading level0 row8\" >8</th>\n",
       "      <td id=\"T_afcd0_row8_col0\" class=\"data row8 col0\" >Categorical imputation</td>\n",
       "      <td id=\"T_afcd0_row8_col1\" class=\"data row8 col1\" >mode</td>\n",
       "    </tr>\n",
       "    <tr>\n",
       "      <th id=\"T_afcd0_level0_row9\" class=\"row_heading level0 row9\" >9</th>\n",
       "      <td id=\"T_afcd0_row9_col0\" class=\"data row9 col0\" >Maximum one-hot encoding</td>\n",
       "      <td id=\"T_afcd0_row9_col1\" class=\"data row9 col1\" >-1</td>\n",
       "    </tr>\n",
       "    <tr>\n",
       "      <th id=\"T_afcd0_level0_row10\" class=\"row_heading level0 row10\" >10</th>\n",
       "      <td id=\"T_afcd0_row10_col0\" class=\"data row10 col0\" >Encoding method</td>\n",
       "      <td id=\"T_afcd0_row10_col1\" class=\"data row10 col1\" >None</td>\n",
       "    </tr>\n",
       "    <tr>\n",
       "      <th id=\"T_afcd0_level0_row11\" class=\"row_heading level0 row11\" >11</th>\n",
       "      <td id=\"T_afcd0_row11_col0\" class=\"data row11 col0\" >CPU Jobs</td>\n",
       "      <td id=\"T_afcd0_row11_col1\" class=\"data row11 col1\" >-1</td>\n",
       "    </tr>\n",
       "    <tr>\n",
       "      <th id=\"T_afcd0_level0_row12\" class=\"row_heading level0 row12\" >12</th>\n",
       "      <td id=\"T_afcd0_row12_col0\" class=\"data row12 col0\" >Use GPU</td>\n",
       "      <td id=\"T_afcd0_row12_col1\" class=\"data row12 col1\" >False</td>\n",
       "    </tr>\n",
       "    <tr>\n",
       "      <th id=\"T_afcd0_level0_row13\" class=\"row_heading level0 row13\" >13</th>\n",
       "      <td id=\"T_afcd0_row13_col0\" class=\"data row13 col0\" >Log Experiment</td>\n",
       "      <td id=\"T_afcd0_row13_col1\" class=\"data row13 col1\" >False</td>\n",
       "    </tr>\n",
       "    <tr>\n",
       "      <th id=\"T_afcd0_level0_row14\" class=\"row_heading level0 row14\" >14</th>\n",
       "      <td id=\"T_afcd0_row14_col0\" class=\"data row14 col0\" >Experiment Name</td>\n",
       "      <td id=\"T_afcd0_row14_col1\" class=\"data row14 col1\" >anomaly-default-name</td>\n",
       "    </tr>\n",
       "    <tr>\n",
       "      <th id=\"T_afcd0_level0_row15\" class=\"row_heading level0 row15\" >15</th>\n",
       "      <td id=\"T_afcd0_row15_col0\" class=\"data row15 col0\" >USI</td>\n",
       "      <td id=\"T_afcd0_row15_col1\" class=\"data row15 col1\" >b4bd</td>\n",
       "    </tr>\n",
       "  </tbody>\n",
       "</table>\n"
      ],
      "text/plain": [
       "<pandas.io.formats.style.Styler at 0x240dd68f210>"
      ]
     },
     "metadata": {},
     "output_type": "display_data"
    },
    {
     "data": {
      "text/html": [],
      "text/plain": [
       "<IPython.core.display.HTML object>"
      ]
     },
     "metadata": {},
     "output_type": "display_data"
    },
    {
     "data": {
      "text/html": [],
      "text/plain": [
       "<IPython.core.display.HTML object>"
      ]
     },
     "metadata": {},
     "output_type": "display_data"
    },
    {
     "data": {
      "text/html": [],
      "text/plain": [
       "<IPython.core.display.HTML object>"
      ]
     },
     "metadata": {},
     "output_type": "display_data"
    }
   ],
   "source": [
    "from pycaret.anomaly import *\n",
    "\n",
    "exp_name = setup(data = df)\n",
    "abod = create_model('abod')"
   ]
  },
  {
   "cell_type": "markdown",
   "id": "8c560afc",
   "metadata": {},
   "source": [
    "### LOF (Local Outlier Factor)"
   ]
  },
  {
   "cell_type": "code",
   "execution_count": 59,
   "id": "cfb3d29e",
   "metadata": {},
   "outputs": [
    {
     "data": {
      "text/html": [
       "<style type=\"text/css\">\n",
       "#T_d1069_row5_col1 {\n",
       "  background-color: lightgreen;\n",
       "}\n",
       "</style>\n",
       "<table id=\"T_d1069\">\n",
       "  <thead>\n",
       "    <tr>\n",
       "      <th class=\"blank level0\" >&nbsp;</th>\n",
       "      <th id=\"T_d1069_level0_col0\" class=\"col_heading level0 col0\" >Description</th>\n",
       "      <th id=\"T_d1069_level0_col1\" class=\"col_heading level0 col1\" >Value</th>\n",
       "    </tr>\n",
       "  </thead>\n",
       "  <tbody>\n",
       "    <tr>\n",
       "      <th id=\"T_d1069_level0_row0\" class=\"row_heading level0 row0\" >0</th>\n",
       "      <td id=\"T_d1069_row0_col0\" class=\"data row0 col0\" >Session id</td>\n",
       "      <td id=\"T_d1069_row0_col1\" class=\"data row0 col1\" >7588</td>\n",
       "    </tr>\n",
       "    <tr>\n",
       "      <th id=\"T_d1069_level0_row1\" class=\"row_heading level0 row1\" >1</th>\n",
       "      <td id=\"T_d1069_row1_col0\" class=\"data row1 col0\" >Original data shape</td>\n",
       "      <td id=\"T_d1069_row1_col1\" class=\"data row1 col1\" >(150, 6)</td>\n",
       "    </tr>\n",
       "    <tr>\n",
       "      <th id=\"T_d1069_level0_row2\" class=\"row_heading level0 row2\" >2</th>\n",
       "      <td id=\"T_d1069_row2_col0\" class=\"data row2 col0\" >Transformed data shape</td>\n",
       "      <td id=\"T_d1069_row2_col1\" class=\"data row2 col1\" >(150, 8)</td>\n",
       "    </tr>\n",
       "    <tr>\n",
       "      <th id=\"T_d1069_level0_row3\" class=\"row_heading level0 row3\" >3</th>\n",
       "      <td id=\"T_d1069_row3_col0\" class=\"data row3 col0\" >Numeric features</td>\n",
       "      <td id=\"T_d1069_row3_col1\" class=\"data row3 col1\" >5</td>\n",
       "    </tr>\n",
       "    <tr>\n",
       "      <th id=\"T_d1069_level0_row4\" class=\"row_heading level0 row4\" >4</th>\n",
       "      <td id=\"T_d1069_row4_col0\" class=\"data row4 col0\" >Categorical features</td>\n",
       "      <td id=\"T_d1069_row4_col1\" class=\"data row4 col1\" >1</td>\n",
       "    </tr>\n",
       "    <tr>\n",
       "      <th id=\"T_d1069_level0_row5\" class=\"row_heading level0 row5\" >5</th>\n",
       "      <td id=\"T_d1069_row5_col0\" class=\"data row5 col0\" >Preprocess</td>\n",
       "      <td id=\"T_d1069_row5_col1\" class=\"data row5 col1\" >True</td>\n",
       "    </tr>\n",
       "    <tr>\n",
       "      <th id=\"T_d1069_level0_row6\" class=\"row_heading level0 row6\" >6</th>\n",
       "      <td id=\"T_d1069_row6_col0\" class=\"data row6 col0\" >Imputation type</td>\n",
       "      <td id=\"T_d1069_row6_col1\" class=\"data row6 col1\" >simple</td>\n",
       "    </tr>\n",
       "    <tr>\n",
       "      <th id=\"T_d1069_level0_row7\" class=\"row_heading level0 row7\" >7</th>\n",
       "      <td id=\"T_d1069_row7_col0\" class=\"data row7 col0\" >Numeric imputation</td>\n",
       "      <td id=\"T_d1069_row7_col1\" class=\"data row7 col1\" >mean</td>\n",
       "    </tr>\n",
       "    <tr>\n",
       "      <th id=\"T_d1069_level0_row8\" class=\"row_heading level0 row8\" >8</th>\n",
       "      <td id=\"T_d1069_row8_col0\" class=\"data row8 col0\" >Categorical imputation</td>\n",
       "      <td id=\"T_d1069_row8_col1\" class=\"data row8 col1\" >mode</td>\n",
       "    </tr>\n",
       "    <tr>\n",
       "      <th id=\"T_d1069_level0_row9\" class=\"row_heading level0 row9\" >9</th>\n",
       "      <td id=\"T_d1069_row9_col0\" class=\"data row9 col0\" >Maximum one-hot encoding</td>\n",
       "      <td id=\"T_d1069_row9_col1\" class=\"data row9 col1\" >-1</td>\n",
       "    </tr>\n",
       "    <tr>\n",
       "      <th id=\"T_d1069_level0_row10\" class=\"row_heading level0 row10\" >10</th>\n",
       "      <td id=\"T_d1069_row10_col0\" class=\"data row10 col0\" >Encoding method</td>\n",
       "      <td id=\"T_d1069_row10_col1\" class=\"data row10 col1\" >None</td>\n",
       "    </tr>\n",
       "    <tr>\n",
       "      <th id=\"T_d1069_level0_row11\" class=\"row_heading level0 row11\" >11</th>\n",
       "      <td id=\"T_d1069_row11_col0\" class=\"data row11 col0\" >CPU Jobs</td>\n",
       "      <td id=\"T_d1069_row11_col1\" class=\"data row11 col1\" >-1</td>\n",
       "    </tr>\n",
       "    <tr>\n",
       "      <th id=\"T_d1069_level0_row12\" class=\"row_heading level0 row12\" >12</th>\n",
       "      <td id=\"T_d1069_row12_col0\" class=\"data row12 col0\" >Use GPU</td>\n",
       "      <td id=\"T_d1069_row12_col1\" class=\"data row12 col1\" >False</td>\n",
       "    </tr>\n",
       "    <tr>\n",
       "      <th id=\"T_d1069_level0_row13\" class=\"row_heading level0 row13\" >13</th>\n",
       "      <td id=\"T_d1069_row13_col0\" class=\"data row13 col0\" >Log Experiment</td>\n",
       "      <td id=\"T_d1069_row13_col1\" class=\"data row13 col1\" >False</td>\n",
       "    </tr>\n",
       "    <tr>\n",
       "      <th id=\"T_d1069_level0_row14\" class=\"row_heading level0 row14\" >14</th>\n",
       "      <td id=\"T_d1069_row14_col0\" class=\"data row14 col0\" >Experiment Name</td>\n",
       "      <td id=\"T_d1069_row14_col1\" class=\"data row14 col1\" >anomaly-default-name</td>\n",
       "    </tr>\n",
       "    <tr>\n",
       "      <th id=\"T_d1069_level0_row15\" class=\"row_heading level0 row15\" >15</th>\n",
       "      <td id=\"T_d1069_row15_col0\" class=\"data row15 col0\" >USI</td>\n",
       "      <td id=\"T_d1069_row15_col1\" class=\"data row15 col1\" >f5dc</td>\n",
       "    </tr>\n",
       "  </tbody>\n",
       "</table>\n"
      ],
      "text/plain": [
       "<pandas.io.formats.style.Styler at 0x240f578aa90>"
      ]
     },
     "metadata": {},
     "output_type": "display_data"
    },
    {
     "data": {
      "text/html": [],
      "text/plain": [
       "<IPython.core.display.HTML object>"
      ]
     },
     "metadata": {},
     "output_type": "display_data"
    },
    {
     "data": {
      "text/html": [],
      "text/plain": [
       "<IPython.core.display.HTML object>"
      ]
     },
     "metadata": {},
     "output_type": "display_data"
    },
    {
     "data": {
      "text/html": [],
      "text/plain": [
       "<IPython.core.display.HTML object>"
      ]
     },
     "metadata": {},
     "output_type": "display_data"
    }
   ],
   "source": [
    "exp_name = setup(data = df)\n",
    "lof = create_model('lof')"
   ]
  },
  {
   "cell_type": "markdown",
   "id": "83b40369",
   "metadata": {},
   "source": [
    "### KNN (k-Nearest Neighbors Detector)"
   ]
  },
  {
   "cell_type": "code",
   "execution_count": 60,
   "id": "8c3b9b3c",
   "metadata": {},
   "outputs": [
    {
     "data": {
      "text/html": [
       "<style type=\"text/css\">\n",
       "#T_1fcb5_row5_col1 {\n",
       "  background-color: lightgreen;\n",
       "}\n",
       "</style>\n",
       "<table id=\"T_1fcb5\">\n",
       "  <thead>\n",
       "    <tr>\n",
       "      <th class=\"blank level0\" >&nbsp;</th>\n",
       "      <th id=\"T_1fcb5_level0_col0\" class=\"col_heading level0 col0\" >Description</th>\n",
       "      <th id=\"T_1fcb5_level0_col1\" class=\"col_heading level0 col1\" >Value</th>\n",
       "    </tr>\n",
       "  </thead>\n",
       "  <tbody>\n",
       "    <tr>\n",
       "      <th id=\"T_1fcb5_level0_row0\" class=\"row_heading level0 row0\" >0</th>\n",
       "      <td id=\"T_1fcb5_row0_col0\" class=\"data row0 col0\" >Session id</td>\n",
       "      <td id=\"T_1fcb5_row0_col1\" class=\"data row0 col1\" >6749</td>\n",
       "    </tr>\n",
       "    <tr>\n",
       "      <th id=\"T_1fcb5_level0_row1\" class=\"row_heading level0 row1\" >1</th>\n",
       "      <td id=\"T_1fcb5_row1_col0\" class=\"data row1 col0\" >Original data shape</td>\n",
       "      <td id=\"T_1fcb5_row1_col1\" class=\"data row1 col1\" >(150, 6)</td>\n",
       "    </tr>\n",
       "    <tr>\n",
       "      <th id=\"T_1fcb5_level0_row2\" class=\"row_heading level0 row2\" >2</th>\n",
       "      <td id=\"T_1fcb5_row2_col0\" class=\"data row2 col0\" >Transformed data shape</td>\n",
       "      <td id=\"T_1fcb5_row2_col1\" class=\"data row2 col1\" >(150, 8)</td>\n",
       "    </tr>\n",
       "    <tr>\n",
       "      <th id=\"T_1fcb5_level0_row3\" class=\"row_heading level0 row3\" >3</th>\n",
       "      <td id=\"T_1fcb5_row3_col0\" class=\"data row3 col0\" >Numeric features</td>\n",
       "      <td id=\"T_1fcb5_row3_col1\" class=\"data row3 col1\" >5</td>\n",
       "    </tr>\n",
       "    <tr>\n",
       "      <th id=\"T_1fcb5_level0_row4\" class=\"row_heading level0 row4\" >4</th>\n",
       "      <td id=\"T_1fcb5_row4_col0\" class=\"data row4 col0\" >Categorical features</td>\n",
       "      <td id=\"T_1fcb5_row4_col1\" class=\"data row4 col1\" >1</td>\n",
       "    </tr>\n",
       "    <tr>\n",
       "      <th id=\"T_1fcb5_level0_row5\" class=\"row_heading level0 row5\" >5</th>\n",
       "      <td id=\"T_1fcb5_row5_col0\" class=\"data row5 col0\" >Preprocess</td>\n",
       "      <td id=\"T_1fcb5_row5_col1\" class=\"data row5 col1\" >True</td>\n",
       "    </tr>\n",
       "    <tr>\n",
       "      <th id=\"T_1fcb5_level0_row6\" class=\"row_heading level0 row6\" >6</th>\n",
       "      <td id=\"T_1fcb5_row6_col0\" class=\"data row6 col0\" >Imputation type</td>\n",
       "      <td id=\"T_1fcb5_row6_col1\" class=\"data row6 col1\" >simple</td>\n",
       "    </tr>\n",
       "    <tr>\n",
       "      <th id=\"T_1fcb5_level0_row7\" class=\"row_heading level0 row7\" >7</th>\n",
       "      <td id=\"T_1fcb5_row7_col0\" class=\"data row7 col0\" >Numeric imputation</td>\n",
       "      <td id=\"T_1fcb5_row7_col1\" class=\"data row7 col1\" >mean</td>\n",
       "    </tr>\n",
       "    <tr>\n",
       "      <th id=\"T_1fcb5_level0_row8\" class=\"row_heading level0 row8\" >8</th>\n",
       "      <td id=\"T_1fcb5_row8_col0\" class=\"data row8 col0\" >Categorical imputation</td>\n",
       "      <td id=\"T_1fcb5_row8_col1\" class=\"data row8 col1\" >mode</td>\n",
       "    </tr>\n",
       "    <tr>\n",
       "      <th id=\"T_1fcb5_level0_row9\" class=\"row_heading level0 row9\" >9</th>\n",
       "      <td id=\"T_1fcb5_row9_col0\" class=\"data row9 col0\" >Maximum one-hot encoding</td>\n",
       "      <td id=\"T_1fcb5_row9_col1\" class=\"data row9 col1\" >-1</td>\n",
       "    </tr>\n",
       "    <tr>\n",
       "      <th id=\"T_1fcb5_level0_row10\" class=\"row_heading level0 row10\" >10</th>\n",
       "      <td id=\"T_1fcb5_row10_col0\" class=\"data row10 col0\" >Encoding method</td>\n",
       "      <td id=\"T_1fcb5_row10_col1\" class=\"data row10 col1\" >None</td>\n",
       "    </tr>\n",
       "    <tr>\n",
       "      <th id=\"T_1fcb5_level0_row11\" class=\"row_heading level0 row11\" >11</th>\n",
       "      <td id=\"T_1fcb5_row11_col0\" class=\"data row11 col0\" >CPU Jobs</td>\n",
       "      <td id=\"T_1fcb5_row11_col1\" class=\"data row11 col1\" >-1</td>\n",
       "    </tr>\n",
       "    <tr>\n",
       "      <th id=\"T_1fcb5_level0_row12\" class=\"row_heading level0 row12\" >12</th>\n",
       "      <td id=\"T_1fcb5_row12_col0\" class=\"data row12 col0\" >Use GPU</td>\n",
       "      <td id=\"T_1fcb5_row12_col1\" class=\"data row12 col1\" >False</td>\n",
       "    </tr>\n",
       "    <tr>\n",
       "      <th id=\"T_1fcb5_level0_row13\" class=\"row_heading level0 row13\" >13</th>\n",
       "      <td id=\"T_1fcb5_row13_col0\" class=\"data row13 col0\" >Log Experiment</td>\n",
       "      <td id=\"T_1fcb5_row13_col1\" class=\"data row13 col1\" >False</td>\n",
       "    </tr>\n",
       "    <tr>\n",
       "      <th id=\"T_1fcb5_level0_row14\" class=\"row_heading level0 row14\" >14</th>\n",
       "      <td id=\"T_1fcb5_row14_col0\" class=\"data row14 col0\" >Experiment Name</td>\n",
       "      <td id=\"T_1fcb5_row14_col1\" class=\"data row14 col1\" >anomaly-default-name</td>\n",
       "    </tr>\n",
       "    <tr>\n",
       "      <th id=\"T_1fcb5_level0_row15\" class=\"row_heading level0 row15\" >15</th>\n",
       "      <td id=\"T_1fcb5_row15_col0\" class=\"data row15 col0\" >USI</td>\n",
       "      <td id=\"T_1fcb5_row15_col1\" class=\"data row15 col1\" >ee00</td>\n",
       "    </tr>\n",
       "  </tbody>\n",
       "</table>\n"
      ],
      "text/plain": [
       "<pandas.io.formats.style.Styler at 0x240dd717cd0>"
      ]
     },
     "metadata": {},
     "output_type": "display_data"
    },
    {
     "data": {
      "text/html": [],
      "text/plain": [
       "<IPython.core.display.HTML object>"
      ]
     },
     "metadata": {},
     "output_type": "display_data"
    },
    {
     "data": {
      "text/html": [],
      "text/plain": [
       "<IPython.core.display.HTML object>"
      ]
     },
     "metadata": {},
     "output_type": "display_data"
    },
    {
     "data": {
      "text/html": [],
      "text/plain": [
       "<IPython.core.display.HTML object>"
      ]
     },
     "metadata": {},
     "output_type": "display_data"
    }
   ],
   "source": [
    "exp_name = setup(data = df)\n",
    "knn = create_model('knn')"
   ]
  },
  {
   "cell_type": "markdown",
   "id": "f7176bd1",
   "metadata": {},
   "source": [
    "## Implementasi Model ke dataset"
   ]
  },
  {
   "cell_type": "code",
   "execution_count": 61,
   "id": "d5e64521",
   "metadata": {},
   "outputs": [],
   "source": [
    "# Assign model -> hasilkan dataframe dengan kolom anomaly\n",
    "df_anomaly_abod = assign_model(abod)\n",
    "df_anomaly_lof = assign_model(lof)\n",
    "df_anomaly_knn = assign_model(knn)\n"
   ]
  },
  {
   "cell_type": "markdown",
   "id": "7db53217",
   "metadata": {},
   "source": [
    "## Menampilkan Data dengan skor outlier tertinggi"
   ]
  },
  {
   "cell_type": "code",
   "execution_count": 62,
   "id": "ea56bad2",
   "metadata": {},
   "outputs": [
    {
     "name": "stdout",
     "output_type": "stream",
     "text": [
      "Top 5 Deteksi Anomali berdasarkan (ABOD)\n"
     ]
    },
    {
     "data": {
      "application/vnd.microsoft.datawrangler.viewer.v0+json": {
       "columns": [
        {
         "name": "index",
         "rawType": "int64",
         "type": "integer"
        },
        {
         "name": "id",
         "rawType": "int32",
         "type": "integer"
        },
        {
         "name": "species",
         "rawType": "category",
         "type": "unknown"
        },
        {
         "name": "sepal_length",
         "rawType": "float32",
         "type": "float"
        },
        {
         "name": "sepal_width",
         "rawType": "float32",
         "type": "float"
        },
        {
         "name": "petal_length",
         "rawType": "float32",
         "type": "float"
        },
        {
         "name": "petal_width",
         "rawType": "float32",
         "type": "float"
        },
        {
         "name": "Anomaly",
         "rawType": "int32",
         "type": "integer"
        },
        {
         "name": "Anomaly_Score",
         "rawType": "float64",
         "type": "float"
        }
       ],
       "ref": "8b7c95be-ba4b-4b58-a702-a04794be7cd4",
       "rows": [
        [
         "0",
         "107",
         "Iris-virginica",
         "4.9",
         "2.5",
         "4.5",
         "1.7",
         "1",
         "-0.0012759531998629426"
        ],
        [
         "1",
         "123",
         "Iris-virginica",
         "7.7",
         "2.8",
         "6.7",
         "2.0",
         "1",
         "-0.004978241554653674"
        ],
        [
         "2",
         "119",
         "Iris-virginica",
         "7.7",
         "2.6",
         "6.9",
         "2.3",
         "1",
         "-0.005204261179042024"
        ],
        [
         "3",
         "118",
         "Iris-virginica",
         "7.7",
         "3.8",
         "6.7",
         "2.2",
         "1",
         "-0.005360607708903203"
        ],
        [
         "4",
         "120",
         "Iris-virginica",
         "6.0",
         "2.2",
         "5.0",
         "1.5",
         "1",
         "-0.006079819680054236"
        ]
       ],
       "shape": {
        "columns": 8,
        "rows": 5
       }
      },
      "text/html": [
       "<div>\n",
       "<style scoped>\n",
       "    .dataframe tbody tr th:only-of-type {\n",
       "        vertical-align: middle;\n",
       "    }\n",
       "\n",
       "    .dataframe tbody tr th {\n",
       "        vertical-align: top;\n",
       "    }\n",
       "\n",
       "    .dataframe thead th {\n",
       "        text-align: right;\n",
       "    }\n",
       "</style>\n",
       "<table border=\"1\" class=\"dataframe\">\n",
       "  <thead>\n",
       "    <tr style=\"text-align: right;\">\n",
       "      <th></th>\n",
       "      <th>id</th>\n",
       "      <th>species</th>\n",
       "      <th>sepal_length</th>\n",
       "      <th>sepal_width</th>\n",
       "      <th>petal_length</th>\n",
       "      <th>petal_width</th>\n",
       "      <th>Anomaly</th>\n",
       "      <th>Anomaly_Score</th>\n",
       "    </tr>\n",
       "  </thead>\n",
       "  <tbody>\n",
       "    <tr>\n",
       "      <th>0</th>\n",
       "      <td>107</td>\n",
       "      <td>Iris-virginica</td>\n",
       "      <td>4.9</td>\n",
       "      <td>2.5</td>\n",
       "      <td>4.5</td>\n",
       "      <td>1.7</td>\n",
       "      <td>1</td>\n",
       "      <td>-0.001276</td>\n",
       "    </tr>\n",
       "    <tr>\n",
       "      <th>1</th>\n",
       "      <td>123</td>\n",
       "      <td>Iris-virginica</td>\n",
       "      <td>7.7</td>\n",
       "      <td>2.8</td>\n",
       "      <td>6.7</td>\n",
       "      <td>2.0</td>\n",
       "      <td>1</td>\n",
       "      <td>-0.004978</td>\n",
       "    </tr>\n",
       "    <tr>\n",
       "      <th>2</th>\n",
       "      <td>119</td>\n",
       "      <td>Iris-virginica</td>\n",
       "      <td>7.7</td>\n",
       "      <td>2.6</td>\n",
       "      <td>6.9</td>\n",
       "      <td>2.3</td>\n",
       "      <td>1</td>\n",
       "      <td>-0.005204</td>\n",
       "    </tr>\n",
       "    <tr>\n",
       "      <th>3</th>\n",
       "      <td>118</td>\n",
       "      <td>Iris-virginica</td>\n",
       "      <td>7.7</td>\n",
       "      <td>3.8</td>\n",
       "      <td>6.7</td>\n",
       "      <td>2.2</td>\n",
       "      <td>1</td>\n",
       "      <td>-0.005361</td>\n",
       "    </tr>\n",
       "    <tr>\n",
       "      <th>4</th>\n",
       "      <td>120</td>\n",
       "      <td>Iris-virginica</td>\n",
       "      <td>6.0</td>\n",
       "      <td>2.2</td>\n",
       "      <td>5.0</td>\n",
       "      <td>1.5</td>\n",
       "      <td>1</td>\n",
       "      <td>-0.006080</td>\n",
       "    </tr>\n",
       "  </tbody>\n",
       "</table>\n",
       "</div>"
      ],
      "text/plain": [
       "    id         species  sepal_length  sepal_width  petal_length  petal_width  \\\n",
       "0  107  Iris-virginica           4.9          2.5           4.5          1.7   \n",
       "1  123  Iris-virginica           7.7          2.8           6.7          2.0   \n",
       "2  119  Iris-virginica           7.7          2.6           6.9          2.3   \n",
       "3  118  Iris-virginica           7.7          3.8           6.7          2.2   \n",
       "4  120  Iris-virginica           6.0          2.2           5.0          1.5   \n",
       "\n",
       "   Anomaly  Anomaly_Score  \n",
       "0        1      -0.001276  \n",
       "1        1      -0.004978  \n",
       "2        1      -0.005204  \n",
       "3        1      -0.005361  \n",
       "4        1      -0.006080  "
      ]
     },
     "execution_count": 62,
     "metadata": {},
     "output_type": "execute_result"
    }
   ],
   "source": [
    "df_sorted_abod = df_anomaly_abod.sort_values(by=\"Anomaly_Score\", ascending=False).reset_index(drop=True)\n",
    "print('Top 5 Deteksi Anomali berdasarkan (ABOD)')\n",
    "df_sorted_abod.head()"
   ]
  },
  {
   "cell_type": "code",
   "execution_count": 63,
   "id": "587b3b5b",
   "metadata": {},
   "outputs": [
    {
     "name": "stdout",
     "output_type": "stream",
     "text": [
      "Top 5 Deteksi Anomali berdasarkan (LOF)\n"
     ]
    },
    {
     "data": {
      "application/vnd.microsoft.datawrangler.viewer.v0+json": {
       "columns": [
        {
         "name": "index",
         "rawType": "int64",
         "type": "integer"
        },
        {
         "name": "id",
         "rawType": "int32",
         "type": "integer"
        },
        {
         "name": "species",
         "rawType": "category",
         "type": "unknown"
        },
        {
         "name": "sepal_length",
         "rawType": "float32",
         "type": "float"
        },
        {
         "name": "sepal_width",
         "rawType": "float32",
         "type": "float"
        },
        {
         "name": "petal_length",
         "rawType": "float32",
         "type": "float"
        },
        {
         "name": "petal_width",
         "rawType": "float32",
         "type": "float"
        },
        {
         "name": "Anomaly",
         "rawType": "int32",
         "type": "integer"
        },
        {
         "name": "Anomaly_Score",
         "rawType": "float64",
         "type": "float"
        }
       ],
       "ref": "6a78a796-25d5-41b4-83ba-6df510312549",
       "rows": [
        [
         "0",
         "1",
         "Iris-setosa",
         "5.1",
         "3.5",
         "1.4",
         "0.2",
         "1",
         "1.256152891165267"
        ],
        [
         "1",
         "150",
         "Iris-virginica",
         "5.9",
         "3.0",
         "5.1",
         "1.8",
         "1",
         "1.2535210500710512"
        ],
        [
         "2",
         "2",
         "Iris-setosa",
         "4.9",
         "3.0",
         "1.4",
         "0.2",
         "1",
         "1.217656950823414"
        ],
        [
         "3",
         "149",
         "Iris-virginica",
         "6.2",
         "3.4",
         "5.4",
         "2.3",
         "1",
         "1.2142983569338608"
        ],
        [
         "4",
         "3",
         "Iris-setosa",
         "4.7",
         "3.2",
         "1.3",
         "0.2",
         "1",
         "1.183005148038413"
        ]
       ],
       "shape": {
        "columns": 8,
        "rows": 5
       }
      },
      "text/html": [
       "<div>\n",
       "<style scoped>\n",
       "    .dataframe tbody tr th:only-of-type {\n",
       "        vertical-align: middle;\n",
       "    }\n",
       "\n",
       "    .dataframe tbody tr th {\n",
       "        vertical-align: top;\n",
       "    }\n",
       "\n",
       "    .dataframe thead th {\n",
       "        text-align: right;\n",
       "    }\n",
       "</style>\n",
       "<table border=\"1\" class=\"dataframe\">\n",
       "  <thead>\n",
       "    <tr style=\"text-align: right;\">\n",
       "      <th></th>\n",
       "      <th>id</th>\n",
       "      <th>species</th>\n",
       "      <th>sepal_length</th>\n",
       "      <th>sepal_width</th>\n",
       "      <th>petal_length</th>\n",
       "      <th>petal_width</th>\n",
       "      <th>Anomaly</th>\n",
       "      <th>Anomaly_Score</th>\n",
       "    </tr>\n",
       "  </thead>\n",
       "  <tbody>\n",
       "    <tr>\n",
       "      <th>0</th>\n",
       "      <td>1</td>\n",
       "      <td>Iris-setosa</td>\n",
       "      <td>5.1</td>\n",
       "      <td>3.5</td>\n",
       "      <td>1.4</td>\n",
       "      <td>0.2</td>\n",
       "      <td>1</td>\n",
       "      <td>1.256153</td>\n",
       "    </tr>\n",
       "    <tr>\n",
       "      <th>1</th>\n",
       "      <td>150</td>\n",
       "      <td>Iris-virginica</td>\n",
       "      <td>5.9</td>\n",
       "      <td>3.0</td>\n",
       "      <td>5.1</td>\n",
       "      <td>1.8</td>\n",
       "      <td>1</td>\n",
       "      <td>1.253521</td>\n",
       "    </tr>\n",
       "    <tr>\n",
       "      <th>2</th>\n",
       "      <td>2</td>\n",
       "      <td>Iris-setosa</td>\n",
       "      <td>4.9</td>\n",
       "      <td>3.0</td>\n",
       "      <td>1.4</td>\n",
       "      <td>0.2</td>\n",
       "      <td>1</td>\n",
       "      <td>1.217657</td>\n",
       "    </tr>\n",
       "    <tr>\n",
       "      <th>3</th>\n",
       "      <td>149</td>\n",
       "      <td>Iris-virginica</td>\n",
       "      <td>6.2</td>\n",
       "      <td>3.4</td>\n",
       "      <td>5.4</td>\n",
       "      <td>2.3</td>\n",
       "      <td>1</td>\n",
       "      <td>1.214298</td>\n",
       "    </tr>\n",
       "    <tr>\n",
       "      <th>4</th>\n",
       "      <td>3</td>\n",
       "      <td>Iris-setosa</td>\n",
       "      <td>4.7</td>\n",
       "      <td>3.2</td>\n",
       "      <td>1.3</td>\n",
       "      <td>0.2</td>\n",
       "      <td>1</td>\n",
       "      <td>1.183005</td>\n",
       "    </tr>\n",
       "  </tbody>\n",
       "</table>\n",
       "</div>"
      ],
      "text/plain": [
       "    id         species  sepal_length  sepal_width  petal_length  petal_width  \\\n",
       "0    1     Iris-setosa           5.1          3.5           1.4          0.2   \n",
       "1  150  Iris-virginica           5.9          3.0           5.1          1.8   \n",
       "2    2     Iris-setosa           4.9          3.0           1.4          0.2   \n",
       "3  149  Iris-virginica           6.2          3.4           5.4          2.3   \n",
       "4    3     Iris-setosa           4.7          3.2           1.3          0.2   \n",
       "\n",
       "   Anomaly  Anomaly_Score  \n",
       "0        1       1.256153  \n",
       "1        1       1.253521  \n",
       "2        1       1.217657  \n",
       "3        1       1.214298  \n",
       "4        1       1.183005  "
      ]
     },
     "execution_count": 63,
     "metadata": {},
     "output_type": "execute_result"
    }
   ],
   "source": [
    "df_sorted_lof = df_anomaly_lof.sort_values(by=\"Anomaly_Score\", ascending=False).reset_index(drop=True)\n",
    "print('Top 5 Deteksi Anomali berdasarkan (LOF)')\n",
    "df_sorted_lof.head()"
   ]
  },
  {
   "cell_type": "code",
   "execution_count": 64,
   "id": "99c8d315",
   "metadata": {},
   "outputs": [
    {
     "name": "stdout",
     "output_type": "stream",
     "text": [
      "Top 5 Deteksi Anomali berdasarkan (KNN)\n"
     ]
    },
    {
     "data": {
      "application/vnd.microsoft.datawrangler.viewer.v0+json": {
       "columns": [
        {
         "name": "index",
         "rawType": "int64",
         "type": "integer"
        },
        {
         "name": "id",
         "rawType": "int32",
         "type": "integer"
        },
        {
         "name": "species",
         "rawType": "category",
         "type": "unknown"
        },
        {
         "name": "sepal_length",
         "rawType": "float32",
         "type": "float"
        },
        {
         "name": "sepal_width",
         "rawType": "float32",
         "type": "float"
        },
        {
         "name": "petal_length",
         "rawType": "float32",
         "type": "float"
        },
        {
         "name": "petal_width",
         "rawType": "float32",
         "type": "float"
        },
        {
         "name": "Anomaly",
         "rawType": "int32",
         "type": "integer"
        },
        {
         "name": "Anomaly_Score",
         "rawType": "float64",
         "type": "float"
        }
       ],
       "ref": "3293653a-9d82-461a-a3de-77c3679c9c8f",
       "rows": [
        [
         "0",
         "150",
         "Iris-virginica",
         "5.9",
         "3.0",
         "5.1",
         "1.8",
         "1",
         "5.155579450065965"
        ],
        [
         "1",
         "1",
         "Iris-setosa",
         "5.1",
         "3.5",
         "1.4",
         "0.2",
         "1",
         "5.037856710431764"
        ],
        [
         "2",
         "51",
         "Iris-versicolor",
         "7.0",
         "3.2",
         "4.7",
         "1.4",
         "1",
         "4.39772655073729"
        ],
        [
         "3",
         "50",
         "Iris-setosa",
         "5.0",
         "3.3",
         "1.4",
         "0.2",
         "1",
         "4.389760857726336"
        ],
        [
         "4",
         "2",
         "Iris-setosa",
         "4.9",
         "3.0",
         "1.4",
         "0.2",
         "1",
         "4.146082514346384"
        ]
       ],
       "shape": {
        "columns": 8,
        "rows": 5
       }
      },
      "text/html": [
       "<div>\n",
       "<style scoped>\n",
       "    .dataframe tbody tr th:only-of-type {\n",
       "        vertical-align: middle;\n",
       "    }\n",
       "\n",
       "    .dataframe tbody tr th {\n",
       "        vertical-align: top;\n",
       "    }\n",
       "\n",
       "    .dataframe thead th {\n",
       "        text-align: right;\n",
       "    }\n",
       "</style>\n",
       "<table border=\"1\" class=\"dataframe\">\n",
       "  <thead>\n",
       "    <tr style=\"text-align: right;\">\n",
       "      <th></th>\n",
       "      <th>id</th>\n",
       "      <th>species</th>\n",
       "      <th>sepal_length</th>\n",
       "      <th>sepal_width</th>\n",
       "      <th>petal_length</th>\n",
       "      <th>petal_width</th>\n",
       "      <th>Anomaly</th>\n",
       "      <th>Anomaly_Score</th>\n",
       "    </tr>\n",
       "  </thead>\n",
       "  <tbody>\n",
       "    <tr>\n",
       "      <th>0</th>\n",
       "      <td>150</td>\n",
       "      <td>Iris-virginica</td>\n",
       "      <td>5.9</td>\n",
       "      <td>3.0</td>\n",
       "      <td>5.1</td>\n",
       "      <td>1.8</td>\n",
       "      <td>1</td>\n",
       "      <td>5.155579</td>\n",
       "    </tr>\n",
       "    <tr>\n",
       "      <th>1</th>\n",
       "      <td>1</td>\n",
       "      <td>Iris-setosa</td>\n",
       "      <td>5.1</td>\n",
       "      <td>3.5</td>\n",
       "      <td>1.4</td>\n",
       "      <td>0.2</td>\n",
       "      <td>1</td>\n",
       "      <td>5.037857</td>\n",
       "    </tr>\n",
       "    <tr>\n",
       "      <th>2</th>\n",
       "      <td>51</td>\n",
       "      <td>Iris-versicolor</td>\n",
       "      <td>7.0</td>\n",
       "      <td>3.2</td>\n",
       "      <td>4.7</td>\n",
       "      <td>1.4</td>\n",
       "      <td>1</td>\n",
       "      <td>4.397727</td>\n",
       "    </tr>\n",
       "    <tr>\n",
       "      <th>3</th>\n",
       "      <td>50</td>\n",
       "      <td>Iris-setosa</td>\n",
       "      <td>5.0</td>\n",
       "      <td>3.3</td>\n",
       "      <td>1.4</td>\n",
       "      <td>0.2</td>\n",
       "      <td>1</td>\n",
       "      <td>4.389761</td>\n",
       "    </tr>\n",
       "    <tr>\n",
       "      <th>4</th>\n",
       "      <td>2</td>\n",
       "      <td>Iris-setosa</td>\n",
       "      <td>4.9</td>\n",
       "      <td>3.0</td>\n",
       "      <td>1.4</td>\n",
       "      <td>0.2</td>\n",
       "      <td>1</td>\n",
       "      <td>4.146083</td>\n",
       "    </tr>\n",
       "  </tbody>\n",
       "</table>\n",
       "</div>"
      ],
      "text/plain": [
       "    id          species  sepal_length  sepal_width  petal_length  petal_width  \\\n",
       "0  150   Iris-virginica           5.9          3.0           5.1          1.8   \n",
       "1    1      Iris-setosa           5.1          3.5           1.4          0.2   \n",
       "2   51  Iris-versicolor           7.0          3.2           4.7          1.4   \n",
       "3   50      Iris-setosa           5.0          3.3           1.4          0.2   \n",
       "4    2      Iris-setosa           4.9          3.0           1.4          0.2   \n",
       "\n",
       "   Anomaly  Anomaly_Score  \n",
       "0        1       5.155579  \n",
       "1        1       5.037857  \n",
       "2        1       4.397727  \n",
       "3        1       4.389761  \n",
       "4        1       4.146083  "
      ]
     },
     "execution_count": 64,
     "metadata": {},
     "output_type": "execute_result"
    }
   ],
   "source": [
    "df_sorted_knn = df_anomaly_knn.sort_values(by=\"Anomaly_Score\", ascending=False).reset_index(drop=True)\n",
    "print('Top 5 Deteksi Anomali berdasarkan (KNN)')\n",
    "df_sorted_knn.head()"
   ]
  },
  {
   "cell_type": "markdown",
   "id": "322debc2",
   "metadata": {},
   "source": [
    "## Menghapus Data dengan 2 skor outlier tertinggi"
   ]
  },
  {
   "cell_type": "code",
   "execution_count": 65,
   "id": "0d85c80f",
   "metadata": {},
   "outputs": [
    {
     "data": {
      "application/vnd.microsoft.datawrangler.viewer.v0+json": {
       "columns": [
        {
         "name": "index",
         "rawType": "int64",
         "type": "integer"
        },
        {
         "name": "id",
         "rawType": "int32",
         "type": "integer"
        },
        {
         "name": "species",
         "rawType": "category",
         "type": "unknown"
        },
        {
         "name": "sepal_length",
         "rawType": "float32",
         "type": "float"
        },
        {
         "name": "sepal_width",
         "rawType": "float32",
         "type": "float"
        },
        {
         "name": "petal_length",
         "rawType": "float32",
         "type": "float"
        },
        {
         "name": "petal_width",
         "rawType": "float32",
         "type": "float"
        },
        {
         "name": "Anomaly",
         "rawType": "int32",
         "type": "integer"
        },
        {
         "name": "Anomaly_Score",
         "rawType": "float64",
         "type": "float"
        }
       ],
       "ref": "dd1dc17e-a1bb-4967-99f3-35344c2ed77c",
       "rows": [
        [
         "0",
         "1",
         "Iris-setosa",
         "5.1",
         "3.5",
         "1.4",
         "0.2",
         "0",
         "-0.010918342833487181"
        ],
        [
         "1",
         "2",
         "Iris-setosa",
         "4.9",
         "3.0",
         "1.4",
         "0.2",
         "0",
         "-0.1058791380238742"
        ],
        [
         "2",
         "3",
         "Iris-setosa",
         "4.7",
         "3.2",
         "1.3",
         "0.2",
         "0",
         "-0.16085012250468608"
        ],
        [
         "3",
         "4",
         "Iris-setosa",
         "4.6",
         "3.1",
         "1.5",
         "0.2",
         "0",
         "-0.1089653641790734"
        ],
        [
         "4",
         "5",
         "Iris-setosa",
         "5.0",
         "3.6",
         "1.4",
         "0.2",
         "0",
         "-0.10337206923290632"
        ]
       ],
       "shape": {
        "columns": 8,
        "rows": 5
       }
      },
      "text/html": [
       "<div>\n",
       "<style scoped>\n",
       "    .dataframe tbody tr th:only-of-type {\n",
       "        vertical-align: middle;\n",
       "    }\n",
       "\n",
       "    .dataframe tbody tr th {\n",
       "        vertical-align: top;\n",
       "    }\n",
       "\n",
       "    .dataframe thead th {\n",
       "        text-align: right;\n",
       "    }\n",
       "</style>\n",
       "<table border=\"1\" class=\"dataframe\">\n",
       "  <thead>\n",
       "    <tr style=\"text-align: right;\">\n",
       "      <th></th>\n",
       "      <th>id</th>\n",
       "      <th>species</th>\n",
       "      <th>sepal_length</th>\n",
       "      <th>sepal_width</th>\n",
       "      <th>petal_length</th>\n",
       "      <th>petal_width</th>\n",
       "      <th>Anomaly</th>\n",
       "      <th>Anomaly_Score</th>\n",
       "    </tr>\n",
       "  </thead>\n",
       "  <tbody>\n",
       "    <tr>\n",
       "      <th>0</th>\n",
       "      <td>1</td>\n",
       "      <td>Iris-setosa</td>\n",
       "      <td>5.1</td>\n",
       "      <td>3.5</td>\n",
       "      <td>1.4</td>\n",
       "      <td>0.2</td>\n",
       "      <td>0</td>\n",
       "      <td>-0.010918</td>\n",
       "    </tr>\n",
       "    <tr>\n",
       "      <th>1</th>\n",
       "      <td>2</td>\n",
       "      <td>Iris-setosa</td>\n",
       "      <td>4.9</td>\n",
       "      <td>3.0</td>\n",
       "      <td>1.4</td>\n",
       "      <td>0.2</td>\n",
       "      <td>0</td>\n",
       "      <td>-0.105879</td>\n",
       "    </tr>\n",
       "    <tr>\n",
       "      <th>2</th>\n",
       "      <td>3</td>\n",
       "      <td>Iris-setosa</td>\n",
       "      <td>4.7</td>\n",
       "      <td>3.2</td>\n",
       "      <td>1.3</td>\n",
       "      <td>0.2</td>\n",
       "      <td>0</td>\n",
       "      <td>-0.160850</td>\n",
       "    </tr>\n",
       "    <tr>\n",
       "      <th>3</th>\n",
       "      <td>4</td>\n",
       "      <td>Iris-setosa</td>\n",
       "      <td>4.6</td>\n",
       "      <td>3.1</td>\n",
       "      <td>1.5</td>\n",
       "      <td>0.2</td>\n",
       "      <td>0</td>\n",
       "      <td>-0.108965</td>\n",
       "    </tr>\n",
       "    <tr>\n",
       "      <th>4</th>\n",
       "      <td>5</td>\n",
       "      <td>Iris-setosa</td>\n",
       "      <td>5.0</td>\n",
       "      <td>3.6</td>\n",
       "      <td>1.4</td>\n",
       "      <td>0.2</td>\n",
       "      <td>0</td>\n",
       "      <td>-0.103372</td>\n",
       "    </tr>\n",
       "  </tbody>\n",
       "</table>\n",
       "</div>"
      ],
      "text/plain": [
       "   id      species  sepal_length  sepal_width  petal_length  petal_width  \\\n",
       "0   1  Iris-setosa           5.1          3.5           1.4          0.2   \n",
       "1   2  Iris-setosa           4.9          3.0           1.4          0.2   \n",
       "2   3  Iris-setosa           4.7          3.2           1.3          0.2   \n",
       "3   4  Iris-setosa           4.6          3.1           1.5          0.2   \n",
       "4   5  Iris-setosa           5.0          3.6           1.4          0.2   \n",
       "\n",
       "   Anomaly  Anomaly_Score  \n",
       "0        0      -0.010918  \n",
       "1        0      -0.105879  \n",
       "2        0      -0.160850  \n",
       "3        0      -0.108965  \n",
       "4        0      -0.103372  "
      ]
     },
     "execution_count": 65,
     "metadata": {},
     "output_type": "execute_result"
    }
   ],
   "source": [
    "df_abod_clean = df_sorted_abod.iloc[2:].reset_index(drop=True)\n",
    "df_abod_clean = df_abod_clean.sort_values(by=\"id\").reset_index(drop=True)\n",
    "df_abod_clean.head()"
   ]
  },
  {
   "cell_type": "code",
   "execution_count": 66,
   "id": "52ea5448",
   "metadata": {},
   "outputs": [
    {
     "data": {
      "application/vnd.microsoft.datawrangler.viewer.v0+json": {
       "columns": [
        {
         "name": "index",
         "rawType": "int64",
         "type": "integer"
        },
        {
         "name": "id",
         "rawType": "int32",
         "type": "integer"
        },
        {
         "name": "species",
         "rawType": "category",
         "type": "unknown"
        },
        {
         "name": "sepal_length",
         "rawType": "float32",
         "type": "float"
        },
        {
         "name": "sepal_width",
         "rawType": "float32",
         "type": "float"
        },
        {
         "name": "petal_length",
         "rawType": "float32",
         "type": "float"
        },
        {
         "name": "petal_width",
         "rawType": "float32",
         "type": "float"
        },
        {
         "name": "Anomaly",
         "rawType": "int32",
         "type": "integer"
        },
        {
         "name": "Anomaly_Score",
         "rawType": "float64",
         "type": "float"
        }
       ],
       "ref": "f82bf176-7164-4942-9f24-d550e6f77a7a",
       "rows": [
        [
         "0",
         "2",
         "Iris-setosa",
         "4.9",
         "3.0",
         "1.4",
         "0.2",
         "1",
         "1.217656950823414"
        ],
        [
         "1",
         "3",
         "Iris-setosa",
         "4.7",
         "3.2",
         "1.3",
         "0.2",
         "1",
         "1.183005148038413"
        ],
        [
         "2",
         "4",
         "Iris-setosa",
         "4.6",
         "3.1",
         "1.5",
         "0.2",
         "1",
         "1.1531906006433255"
        ],
        [
         "3",
         "5",
         "Iris-setosa",
         "5.0",
         "3.6",
         "1.4",
         "0.2",
         "0",
         "1.1262590148712053"
        ],
        [
         "4",
         "6",
         "Iris-setosa",
         "5.4",
         "3.9",
         "1.7",
         "0.4",
         "0",
         "1.104792012338716"
        ]
       ],
       "shape": {
        "columns": 8,
        "rows": 5
       }
      },
      "text/html": [
       "<div>\n",
       "<style scoped>\n",
       "    .dataframe tbody tr th:only-of-type {\n",
       "        vertical-align: middle;\n",
       "    }\n",
       "\n",
       "    .dataframe tbody tr th {\n",
       "        vertical-align: top;\n",
       "    }\n",
       "\n",
       "    .dataframe thead th {\n",
       "        text-align: right;\n",
       "    }\n",
       "</style>\n",
       "<table border=\"1\" class=\"dataframe\">\n",
       "  <thead>\n",
       "    <tr style=\"text-align: right;\">\n",
       "      <th></th>\n",
       "      <th>id</th>\n",
       "      <th>species</th>\n",
       "      <th>sepal_length</th>\n",
       "      <th>sepal_width</th>\n",
       "      <th>petal_length</th>\n",
       "      <th>petal_width</th>\n",
       "      <th>Anomaly</th>\n",
       "      <th>Anomaly_Score</th>\n",
       "    </tr>\n",
       "  </thead>\n",
       "  <tbody>\n",
       "    <tr>\n",
       "      <th>0</th>\n",
       "      <td>2</td>\n",
       "      <td>Iris-setosa</td>\n",
       "      <td>4.9</td>\n",
       "      <td>3.0</td>\n",
       "      <td>1.4</td>\n",
       "      <td>0.2</td>\n",
       "      <td>1</td>\n",
       "      <td>1.217657</td>\n",
       "    </tr>\n",
       "    <tr>\n",
       "      <th>1</th>\n",
       "      <td>3</td>\n",
       "      <td>Iris-setosa</td>\n",
       "      <td>4.7</td>\n",
       "      <td>3.2</td>\n",
       "      <td>1.3</td>\n",
       "      <td>0.2</td>\n",
       "      <td>1</td>\n",
       "      <td>1.183005</td>\n",
       "    </tr>\n",
       "    <tr>\n",
       "      <th>2</th>\n",
       "      <td>4</td>\n",
       "      <td>Iris-setosa</td>\n",
       "      <td>4.6</td>\n",
       "      <td>3.1</td>\n",
       "      <td>1.5</td>\n",
       "      <td>0.2</td>\n",
       "      <td>1</td>\n",
       "      <td>1.153191</td>\n",
       "    </tr>\n",
       "    <tr>\n",
       "      <th>3</th>\n",
       "      <td>5</td>\n",
       "      <td>Iris-setosa</td>\n",
       "      <td>5.0</td>\n",
       "      <td>3.6</td>\n",
       "      <td>1.4</td>\n",
       "      <td>0.2</td>\n",
       "      <td>0</td>\n",
       "      <td>1.126259</td>\n",
       "    </tr>\n",
       "    <tr>\n",
       "      <th>4</th>\n",
       "      <td>6</td>\n",
       "      <td>Iris-setosa</td>\n",
       "      <td>5.4</td>\n",
       "      <td>3.9</td>\n",
       "      <td>1.7</td>\n",
       "      <td>0.4</td>\n",
       "      <td>0</td>\n",
       "      <td>1.104792</td>\n",
       "    </tr>\n",
       "  </tbody>\n",
       "</table>\n",
       "</div>"
      ],
      "text/plain": [
       "   id      species  sepal_length  sepal_width  petal_length  petal_width  \\\n",
       "0   2  Iris-setosa           4.9          3.0           1.4          0.2   \n",
       "1   3  Iris-setosa           4.7          3.2           1.3          0.2   \n",
       "2   4  Iris-setosa           4.6          3.1           1.5          0.2   \n",
       "3   5  Iris-setosa           5.0          3.6           1.4          0.2   \n",
       "4   6  Iris-setosa           5.4          3.9           1.7          0.4   \n",
       "\n",
       "   Anomaly  Anomaly_Score  \n",
       "0        1       1.217657  \n",
       "1        1       1.183005  \n",
       "2        1       1.153191  \n",
       "3        0       1.126259  \n",
       "4        0       1.104792  "
      ]
     },
     "execution_count": 66,
     "metadata": {},
     "output_type": "execute_result"
    }
   ],
   "source": [
    "df_lof_clean = df_sorted_lof.iloc[2:].reset_index(drop=True)\n",
    "df_lof_clean = df_lof_clean.sort_values(by=\"id\").reset_index(drop=True)\n",
    "df_lof_clean.head()"
   ]
  },
  {
   "cell_type": "code",
   "execution_count": 67,
   "id": "9df272ef",
   "metadata": {},
   "outputs": [
    {
     "data": {
      "application/vnd.microsoft.datawrangler.viewer.v0+json": {
       "columns": [
        {
         "name": "index",
         "rawType": "int64",
         "type": "integer"
        },
        {
         "name": "id",
         "rawType": "int32",
         "type": "integer"
        },
        {
         "name": "species",
         "rawType": "category",
         "type": "unknown"
        },
        {
         "name": "sepal_length",
         "rawType": "float32",
         "type": "float"
        },
        {
         "name": "sepal_width",
         "rawType": "float32",
         "type": "float"
        },
        {
         "name": "petal_length",
         "rawType": "float32",
         "type": "float"
        },
        {
         "name": "petal_width",
         "rawType": "float32",
         "type": "float"
        },
        {
         "name": "Anomaly",
         "rawType": "int32",
         "type": "integer"
        },
        {
         "name": "Anomaly_Score",
         "rawType": "float64",
         "type": "float"
        }
       ],
       "ref": "c84379cb-1f04-495b-b872-20898c9ddcbf",
       "rows": [
        [
         "0",
         "2",
         "Iris-setosa",
         "4.9",
         "3.0",
         "1.4",
         "0.2",
         "1",
         "4.146082514346384"
        ],
        [
         "1",
         "3",
         "Iris-setosa",
         "4.7",
         "3.2",
         "1.3",
         "0.2",
         "0",
         "3.190611312082145"
        ],
        [
         "2",
         "4",
         "Iris-setosa",
         "4.6",
         "3.1",
         "1.5",
         "0.2",
         "0",
         "3.018277674601438"
        ],
        [
         "3",
         "5",
         "Iris-setosa",
         "5.0",
         "3.6",
         "1.4",
         "0.2",
         "0",
         "3.008321779410318"
        ],
        [
         "4",
         "6",
         "Iris-setosa",
         "5.4",
         "3.9",
         "1.7",
         "0.4",
         "0",
         "3.190611312082145"
        ]
       ],
       "shape": {
        "columns": 8,
        "rows": 5
       }
      },
      "text/html": [
       "<div>\n",
       "<style scoped>\n",
       "    .dataframe tbody tr th:only-of-type {\n",
       "        vertical-align: middle;\n",
       "    }\n",
       "\n",
       "    .dataframe tbody tr th {\n",
       "        vertical-align: top;\n",
       "    }\n",
       "\n",
       "    .dataframe thead th {\n",
       "        text-align: right;\n",
       "    }\n",
       "</style>\n",
       "<table border=\"1\" class=\"dataframe\">\n",
       "  <thead>\n",
       "    <tr style=\"text-align: right;\">\n",
       "      <th></th>\n",
       "      <th>id</th>\n",
       "      <th>species</th>\n",
       "      <th>sepal_length</th>\n",
       "      <th>sepal_width</th>\n",
       "      <th>petal_length</th>\n",
       "      <th>petal_width</th>\n",
       "      <th>Anomaly</th>\n",
       "      <th>Anomaly_Score</th>\n",
       "    </tr>\n",
       "  </thead>\n",
       "  <tbody>\n",
       "    <tr>\n",
       "      <th>0</th>\n",
       "      <td>2</td>\n",
       "      <td>Iris-setosa</td>\n",
       "      <td>4.9</td>\n",
       "      <td>3.0</td>\n",
       "      <td>1.4</td>\n",
       "      <td>0.2</td>\n",
       "      <td>1</td>\n",
       "      <td>4.146083</td>\n",
       "    </tr>\n",
       "    <tr>\n",
       "      <th>1</th>\n",
       "      <td>3</td>\n",
       "      <td>Iris-setosa</td>\n",
       "      <td>4.7</td>\n",
       "      <td>3.2</td>\n",
       "      <td>1.3</td>\n",
       "      <td>0.2</td>\n",
       "      <td>0</td>\n",
       "      <td>3.190611</td>\n",
       "    </tr>\n",
       "    <tr>\n",
       "      <th>2</th>\n",
       "      <td>4</td>\n",
       "      <td>Iris-setosa</td>\n",
       "      <td>4.6</td>\n",
       "      <td>3.1</td>\n",
       "      <td>1.5</td>\n",
       "      <td>0.2</td>\n",
       "      <td>0</td>\n",
       "      <td>3.018278</td>\n",
       "    </tr>\n",
       "    <tr>\n",
       "      <th>3</th>\n",
       "      <td>5</td>\n",
       "      <td>Iris-setosa</td>\n",
       "      <td>5.0</td>\n",
       "      <td>3.6</td>\n",
       "      <td>1.4</td>\n",
       "      <td>0.2</td>\n",
       "      <td>0</td>\n",
       "      <td>3.008322</td>\n",
       "    </tr>\n",
       "    <tr>\n",
       "      <th>4</th>\n",
       "      <td>6</td>\n",
       "      <td>Iris-setosa</td>\n",
       "      <td>5.4</td>\n",
       "      <td>3.9</td>\n",
       "      <td>1.7</td>\n",
       "      <td>0.4</td>\n",
       "      <td>0</td>\n",
       "      <td>3.190611</td>\n",
       "    </tr>\n",
       "  </tbody>\n",
       "</table>\n",
       "</div>"
      ],
      "text/plain": [
       "   id      species  sepal_length  sepal_width  petal_length  petal_width  \\\n",
       "0   2  Iris-setosa           4.9          3.0           1.4          0.2   \n",
       "1   3  Iris-setosa           4.7          3.2           1.3          0.2   \n",
       "2   4  Iris-setosa           4.6          3.1           1.5          0.2   \n",
       "3   5  Iris-setosa           5.0          3.6           1.4          0.2   \n",
       "4   6  Iris-setosa           5.4          3.9           1.7          0.4   \n",
       "\n",
       "   Anomaly  Anomaly_Score  \n",
       "0        1       4.146083  \n",
       "1        0       3.190611  \n",
       "2        0       3.018278  \n",
       "3        0       3.008322  \n",
       "4        0       3.190611  "
      ]
     },
     "execution_count": 67,
     "metadata": {},
     "output_type": "execute_result"
    }
   ],
   "source": [
    "df_knn_clean = df_sorted_knn.iloc[2:].reset_index(drop=True)\n",
    "df_knn_clean = df_knn_clean.sort_values(by=\"id\").reset_index(drop=True)\n",
    "df_knn_clean.head()"
   ]
  },
  {
   "cell_type": "code",
   "execution_count": 68,
   "id": "64caaa05",
   "metadata": {},
   "outputs": [
    {
     "name": "stdout",
     "output_type": "stream",
     "text": [
      "Ukuran dataset clean dari metode ABOD: (148, 8)\n",
      "Ukuran dataset clean dari metode LOF: (148, 8)\n",
      "Ukuran dataset clean dari metode KNN: (148, 8)\n"
     ]
    }
   ],
   "source": [
    "print('Ukuran dataset clean dari metode ABOD:', df_abod_clean.shape)\n",
    "print('Ukuran dataset clean dari metode LOF:', df_lof_clean.shape)\n",
    "print('Ukuran dataset clean dari metode KNN:', df_knn_clean.shape)"
   ]
  },
  {
   "cell_type": "markdown",
   "id": "61be85f4",
   "metadata": {},
   "source": [
    "Hasil diatas menunjukkan bahwa sudah 2 data yang terhapus "
   ]
  },
  {
   "cell_type": "markdown",
   "id": "3d8ec421",
   "metadata": {},
   "source": [
    "## Download csv"
   ]
  },
  {
   "cell_type": "code",
   "execution_count": 69,
   "id": "881f37c0",
   "metadata": {},
   "outputs": [],
   "source": [
    "df_abod_clean.to_csv(\"results/data_clean_abod.csv\", index=False)\n",
    "df_lof_clean.to_csv(\"results/data_clean_lof.csv\", index=False)\n",
    "df_knn_clean.to_csv(\"results/data_clean_knn.csv\", index=False)"
   ]
  },
  {
   "cell_type": "markdown",
   "id": "e79d136b",
   "metadata": {},
   "source": [
    "[📥 Download hasil clean abod (CSV)](data_clean_abod.csv)\n",
    "\n",
    "[📥 Download hasil clean lof (CSV)](data_clean_lof.csv)\n",
    "\n",
    "[📥 Download hasil clean knn (CSV)](data_clean_knn.csv)\n"
   ]
  }
 ],
 "metadata": {
  "kernelspec": {
   "display_name": "Python 3",
   "language": "python",
   "name": "python3"
  },
  "language_info": {
   "codemirror_mode": {
    "name": "ipython",
    "version": 3
   },
   "file_extension": ".py",
   "mimetype": "text/x-python",
   "name": "python",
   "nbconvert_exporter": "python",
   "pygments_lexer": "ipython3",
   "version": "3.11.7"
  }
 },
 "nbformat": 4,
 "nbformat_minor": 5
}
