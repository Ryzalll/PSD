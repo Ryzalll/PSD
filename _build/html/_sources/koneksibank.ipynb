{
 "cells": [
  {
   "cell_type": "code",
   "execution_count": 2,
   "id": "ec30fe5b",
   "metadata": {},
   "outputs": [],
   "source": [
    "import mysql.connector\n",
    "import pandas as pd\n",
    "\n",
    "# Konfigurasi koneksi database\n",
    "def load_data_bank():\n",
    "    conn = mysql.connector.connect(\n",
    "        host=\"localhost\",\n",
    "        user=\"root\",              # ganti sesuai user MySQL Anda\n",
    "        password=\"\",    # ganti sesuai password MySQL\n",
    "        database=\"psd_dataset\"   # ganti sesuai nama database Anda\n",
    "    )\n",
    "\n",
    "    # Query yang ingin dijalankan\n",
    "    query = \"SELECT * FROM bank_data;\"\n",
    "\n",
    "    # Simpan hasil query ke DataFrame\n",
    "    df = pd.read_sql(query, conn)\n",
    "\n",
    "    # Tampilkan DataFrame\n",
    "    print(df.head())\n",
    "\n",
    "    # Tutup koneksi\n",
    "    conn.close()\n",
    "\n",
    "    return df"
   ]
  }
 ],
 "metadata": {
  "kernelspec": {
   "display_name": "Python 3",
   "language": "python",
   "name": "python3"
  },
  "language_info": {
   "codemirror_mode": {
    "name": "ipython",
    "version": 3
   },
   "file_extension": ".py",
   "mimetype": "text/x-python",
   "name": "python",
   "nbconvert_exporter": "python",
   "pygments_lexer": "ipython3",
   "version": "3.11.7"
  }
 },
 "nbformat": 4,
 "nbformat_minor": 5
}
