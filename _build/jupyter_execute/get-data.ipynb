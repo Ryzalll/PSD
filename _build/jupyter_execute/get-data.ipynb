{
 "cells": [
  {
   "cell_type": "markdown",
   "id": "4f32c52f",
   "metadata": {},
   "source": [
    "# NO2 Data Collection and CSV Export\n",
    "Mengambil data NO2 dari Sentinel-5P dan menyimpannya dalam format CSV."
   ]
  },
  {
   "cell_type": "code",
   "execution_count": 24,
   "id": "33fb8dca",
   "metadata": {},
   "outputs": [
    {
     "name": "stdout",
     "output_type": "stream",
     "text": [
      "Installing xarray...\n",
      "Installing pandas...\n",
      "Installing pandas...\n",
      "Installing openeo...\n",
      "Installing openeo...\n"
     ]
    }
   ],
   "source": [
    "# Install required packages\n",
    "import sys\n",
    "import subprocess\n",
    "\n",
    "def install_package(package):\n",
    "    subprocess.check_call([sys.executable, \"-m\", \"pip\", \"install\", package, \"--user\"])\n",
    "\n",
    "# Install basic required packages\n",
    "required_packages = [\"xarray\", \"pandas\", \"openeo\"]\n",
    "\n",
    "for package in required_packages:\n",
    "    try:\n",
    "        print(f\"Installing {package}...\")\n",
    "        install_package(package)\n",
    "    except Exception as e:\n",
    "        print(f\"Error installing {package}: {e}\")\n",
    "\n",
    "# Import required libraries\n",
    "import openeo\n",
    "import os\n",
    "import xarray as xr\n",
    "import pandas as pd"
   ]
  },
  {
   "cell_type": "code",
   "execution_count": 25,
   "id": "1c7ae0d9",
   "metadata": {},
   "outputs": [
    {
     "name": "stdout",
     "output_type": "stream",
     "text": [
      "Authenticated using refresh token.\n"
     ]
    }
   ],
   "source": [
    "# Connect to openEO backend\n",
    "connection = openeo.connect(\"openeo.dataspace.copernicus.eu\").authenticate_oidc()"
   ]
  },
  {
   "cell_type": "code",
   "execution_count": 26,
   "id": "18a08f3a",
   "metadata": {},
   "outputs": [
    {
     "name": "stdout",
     "output_type": "stream",
     "text": [
      "Area coverage:\n",
      "Longitude: 112.35855150090839°E to 112.67345149706591°E\n",
      "Latitude: -7.39682101338893°N to -6.844173503566822°N\n"
     ]
    }
   ],
   "source": [
    "# Define area of interest using polygon coordinates\n",
    "coordinates = [\n",
    "    [112.45390300848345, -6.880960455552255],\n",
    "    [112.43322017927579, -6.957502115216954],\n",
    "    [112.36628008244071, -6.986970395002288],\n",
    "    [112.47579357551535, -7.000963701010065],\n",
    "    [112.51119020298182, -7.015313325230437],\n",
    "    [112.50321358450208, -7.030157252634282],\n",
    "    [112.5211610390948, -7.045495833494314],\n",
    "    [112.52315569364674, -7.035596963077623],\n",
    "    [112.54160082195767, -7.050436746853933],\n",
    "    [112.35855150090839, -7.303858335073286],\n",
    "    [112.44372211514786, -7.308673680530134],\n",
    "    [112.47199724089893, -7.39682101338893],\n",
    "    [112.5770747403231, -7.358772723274527],\n",
    "    [112.5757555441208, -7.234521445420839],\n",
    "    [112.66196464264533, -7.199776078051002],\n",
    "    [112.67345149706591, -7.177045125146265],\n",
    "    [112.63161608651626, -7.117904371015911],\n",
    "    [112.65093217073729, -7.049742216135584],\n",
    "    [112.64270640054463, -7.010328782330575],\n",
    "    [112.60116029304749, -6.952451741742493],\n",
    "    [112.59267970095755, -6.916539431326001],\n",
    "    [112.61215079634741, -6.9160438055054385],\n",
    "    [112.60516117236227, -6.872922372439419],\n",
    "    [112.57370780557892, -6.877383653446103],\n",
    "    [112.57420697159387, -6.844173503566822],\n",
    "    [112.52378198399708, -6.862513179003713],\n",
    "    [112.54175530827729, -6.879366113425078],\n",
    "    [112.5098058937109, -6.905639092692496],\n",
    "    [112.45338989252252, -6.880855590245233]\n",
    "]\n",
    "\n",
    "# Find bounding box from coordinates\n",
    "lons = [coord[0] for coord in coordinates]\n",
    "lats = [coord[1] for coord in coordinates]\n",
    "\n",
    "bbox = {\n",
    "    \"west\": min(lons),\n",
    "    \"south\": min(lats),\n",
    "    \"east\": max(lons),\n",
    "    \"north\": max(lats)\n",
    "}\n",
    "\n",
    "# Print the area coverage\n",
    "print(\"Area coverage:\")\n",
    "print(f\"Longitude: {bbox['west']}°E to {bbox['east']}°E\")\n",
    "print(f\"Latitude: {bbox['south']}°N to {bbox['north']}°N\")"
   ]
  },
  {
   "cell_type": "code",
   "execution_count": 29,
   "id": "5c525377",
   "metadata": {},
   "outputs": [
    {
     "name": "stdout",
     "output_type": "stream",
     "text": [
      "Loading data collection...\n",
      "Aggregating data to daily values...\n",
      "Processing complete. Ready for download.\n",
      "Aggregating data to daily values...\n",
      "Processing complete. Ready for download.\n"
     ]
    }
   ],
   "source": [
    "# Create a datacube with daily data\n",
    "print(\"Loading data collection...\")\n",
    "cube = connection.load_collection(\n",
    "    \"SENTINEL_5P_L2\",\n",
    "    temporal_extent=[\"2021-09-20\", \"2025-09-20\"],\n",
    "    spatial_extent=bbox,\n",
    "    bands=[\"NO2\"]\n",
    ")\n",
    "\n",
    "# Add basic filtering to reduce data volume\n",
    "cube = cube.filter_bands([\"NO2\"])\n",
    "\n",
    "# Perform daily aggregation\n",
    "print(\"Aggregating data to daily values...\")\n",
    "cube = cube.aggregate_temporal_period(\n",
    "    period=\"day\",  # Agregasi per hari\n",
    "    reducer=\"mean\"  # Menggunakan nilai rata-rata untuk setiap hari\n",
    ")\n",
    "\n",
    "print(\"Processing complete. Ready for download.\")"
   ]
  },
  {
   "cell_type": "code",
   "execution_count": 30,
   "id": "0207948a",
   "metadata": {},
   "outputs": [
    {
     "name": "stdout",
     "output_type": "stream",
     "text": [
      "Downloading data...\n",
      "Data successfully downloaded to results/no2_gresik.nc\n",
      "Data successfully downloaded to results/no2_gresik.nc\n"
     ]
    }
   ],
   "source": [
    "# Create results directory if it doesn't exist\n",
    "os.makedirs(\"results\", exist_ok=True)\n",
    "\n",
    "# Download the data\n",
    "try:\n",
    "    print(\"Downloading data...\")\n",
    "    cube.download(\"results/no2_gresik.nc\")\n",
    "    print(\"Data successfully downloaded to results/no2_gresik.nc\")\n",
    "    \n",
    "except Exception as e:\n",
    "    print(f\"Error downloading data: {e}\")\n",
    "    \n",
    "    # Try batch processing as alternative\n",
    "    try:\n",
    "        print(\"\\nTrying batch processing...\")\n",
    "        batch_job = cube.execute_batch(outputfile=\"results/no2_gresik.nc\")\n",
    "        \n",
    "        while True:\n",
    "            status = batch_job.status()\n",
    "            print(f\"Job status: {status}\")\n",
    "            if status == 'finished':\n",
    "                print(\"Download completed successfully\")\n",
    "                break\n",
    "            elif status == 'error':\n",
    "                raise Exception(\"Batch job failed\")\n",
    "    \n",
    "    except Exception as e2:\n",
    "        print(f\"All download attempts failed.\")\n",
    "        print(f\"Error: {e2}\")\n",
    "        raise"
   ]
  }
 ],
 "metadata": {
  "kernelspec": {
   "display_name": "Python 3",
   "language": "python",
   "name": "python3"
  },
  "language_info": {
   "codemirror_mode": {
    "name": "ipython",
    "version": 3
   },
   "file_extension": ".py",
   "mimetype": "text/x-python",
   "name": "python",
   "nbconvert_exporter": "python",
   "pygments_lexer": "ipython3",
   "version": "3.11.7"
  }
 },
 "nbformat": 4,
 "nbformat_minor": 5
}