{
 "cells": [
  {
   "cell_type": "markdown",
   "id": "63467c5e",
   "metadata": {},
   "source": [
    "# Naive Baiyes"
   ]
  }
 ],
 "metadata": {
  "language_info": {
   "name": "python"
  }
 },
 "nbformat": 4,
 "nbformat_minor": 5
}