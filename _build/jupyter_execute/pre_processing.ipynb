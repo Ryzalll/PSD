{
 "cells": [
  {
   "cell_type": "markdown",
   "id": "6a8e656b",
   "metadata": {},
   "source": [
    "# Pre-Processing Forecasting"
   ]
  },
  {
   "cell_type": "markdown",
   "id": "a7f94a1e",
   "metadata": {},
   "source": [
    "## Agregat Data $NO_2$ Harian"
   ]
  },
  {
   "cell_type": "code",
   "execution_count": 1,
   "id": "43f59392",
   "metadata": {},
   "outputs": [
    {
     "name": "stdout",
     "output_type": "stream",
     "text": [
      "Contoh 5 baris teratas:\n",
      "            t  NO2_mean\n",
      "0  2021-09-20  0.000055\n",
      "1  2021-09-21       NaN\n",
      "2  2021-09-22  0.000021\n",
      "3  2021-09-23  0.000032\n",
      "4  2021-09-24  0.000033\n",
      "\n",
      "Disimpan ke: dataset/data.csv\n"
     ]
    }
   ],
   "source": [
    "import pandas as pd\n",
    "\n",
    "# ====== Konfigurasi file ======\n",
    "input_path = \"dataset/no2_gresik_day.csv\"       # ganti dengan path CSV Anda\n",
    "output_path = \"dataset/data.csv\"    # file keluaran\n",
    "\n",
    "# ====== Baca data ======\n",
    "# parse kolom t sebagai tanggal (YYYY-MM-DD)\n",
    "df = pd.read_csv(input_path, parse_dates=['t'])\n",
    "\n",
    "# ====== Hapus kolom yang tidak diperlukan ======\n",
    "cols_drop = [c for c in ['x', 'y', 'crs'] if c in df.columns]\n",
    "df = df.drop(columns=cols_drop)\n",
    "\n",
    "# (opsional) pastikan hanya baris dengan nilai NO2 valid yang dipakai\n",
    "# df = df.dropna(subset=['NO2'])\n",
    "\n",
    "# ====== Hitung rata-rata NO2 per hari ======\n",
    "# Jika 't' berformat tanggal penuh dan Anda HANYA ingin bagian harinya:\n",
    "df['t'] = df['t'].dt.date  # ubah ke tipe date (tanpa jam)\n",
    "\n",
    "no2_harian = (\n",
    "    df.groupby('t', as_index=False)['NO2']\n",
    "      .mean()\n",
    "      .rename(columns={'NO2': 'NO2_mean'})\n",
    ")\n",
    "\n",
    "# ====== Simpan hasil ======\n",
    "no2_harian.to_csv(output_path, index=False)\n",
    "\n",
    "print(\"Contoh 5 baris teratas:\")\n",
    "print(no2_harian.head())\n",
    "print(f\"\\nDisimpan ke: {output_path}\")\n"
   ]
  },
  {
   "cell_type": "markdown",
   "id": "430e73f0",
   "metadata": {},
   "source": [
    "## Penanganan Missing Value dengan Interpolasi Linear"
   ]
  },
  {
   "cell_type": "code",
   "execution_count": 2,
   "id": "d5988baf",
   "metadata": {},
   "outputs": [
    {
     "name": "stdout",
     "output_type": "stream",
     "text": [
      "            t  NO2_mean\n",
      "0  2021-09-20  0.000055\n",
      "1  2021-09-21  0.000038\n",
      "2  2021-09-22  0.000021\n",
      "3  2021-09-23  0.000032\n",
      "4  2021-09-24  0.000033\n"
     ]
    }
   ],
   "source": [
    "import pandas as pd\n",
    "\n",
    "\n",
    "# 1) Pastikan kolom t jadi datetime & urut\n",
    "tmp = no2_harian.copy()\n",
    "tmp['t'] = pd.to_datetime(tmp['t'])\n",
    "tmp = tmp.sort_values('t')\n",
    "\n",
    "# 2) Buat deret tanggal harian kontinu\n",
    "full_idx = pd.date_range(tmp['t'].min(), tmp['t'].max(), freq='D')\n",
    "tmp = tmp.set_index('t').reindex(full_idx)\n",
    "tmp.index.name = 't'\n",
    "\n",
    "# 3) Interpolasi linear berbasis waktu\n",
    "tmp['NO2_mean'] = tmp['NO2_mean'].interpolate(method='time')\n",
    "\n",
    "# 4) Tutup sisa NaN di tepi (awal/akhir) bila ada\n",
    "tmp['NO2_mean'] = tmp['NO2_mean'].bfill().ffill()\n",
    "\n",
    "# 5) Kembalikan ke dataframe final (index → kolom t bertipe date opsional)\n",
    "no2_harian_filled = tmp.reset_index().rename(columns={'index': 't'})\n",
    "no2_harian_filled['t'] = no2_harian_filled['t'].dt.date  # opsional: jadikan date murni\n",
    "\n",
    "# Cek\n",
    "print(no2_harian_filled.head())\n"
   ]
  },
  {
   "cell_type": "markdown",
   "id": "f772288f",
   "metadata": {},
   "source": [
    "## Mengubah menjadi data Superviesd"
   ]
  },
  {
   "cell_type": "code",
   "execution_count": 4,
   "id": "e69c98b8",
   "metadata": {},
   "outputs": [
    {
     "name": "stdout",
     "output_type": "stream",
     "text": [
      "            t       h-3       h-2       h-1      NO_2\n",
      "0  2021-09-23  0.000055  0.000038  0.000021  0.000032\n",
      "1  2021-09-24  0.000038  0.000021  0.000032  0.000033\n",
      "2  2021-09-25  0.000021  0.000032  0.000033  0.000049\n",
      "3  2021-09-26  0.000032  0.000033  0.000049  0.000035\n",
      "4  2021-09-27  0.000033  0.000049  0.000035  0.000042\n"
     ]
    }
   ],
   "source": [
    "def make_supervised_lag(df_daily):\n",
    "    df = df_daily.copy()\n",
    "\n",
    "    # Pastikan tipe datetime & urut\n",
    "    df['t'] = pd.to_datetime(df['t'])\n",
    "    df = df.sort_values('t')\n",
    "\n",
    "    # Normalisasi nama kolom nilai → 'NO_2'\n",
    "    if 'NO2_mean' in df.columns:\n",
    "        df = df.rename(columns={'NO2_mean': 'NO_2'})\n",
    "    elif 'NO2' in df.columns:\n",
    "        df = df.rename(columns={'NO2': 'NO_2'})\n",
    "    else:\n",
    "        raise ValueError(\"Dataframe harus memiliki kolom 'NO2' atau 'NO2_mean'.\")\n",
    "\n",
    "    # Buat kolom lag (h-1, h-2, h-3) berbasis waktu harian\n",
    "    df['h-1'] = df['NO_2'].shift(1)\n",
    "    df['h-2'] = df['NO_2'].shift(2)\n",
    "    df['h-3'] = df['NO_2'].shift(3)\n",
    "\n",
    "    # Ambil hanya kolom yang diminta & buang baris awal yang belum punya lag lengkap\n",
    "    supervised = df[['t', 'h-3', 'h-2', 'h-1', 'NO_2']].dropna(subset=['h-3', 'h-2', 'h-1']).reset_index(drop=True)\n",
    "\n",
    "    # (opsional) jika ingin 't' sebagai date saja, bukan datetime:\n",
    "    supervised['t'] = supervised['t'].dt.date\n",
    "\n",
    "    return supervised\n",
    "\n",
    "# Pakai fungsi:\n",
    "df = make_supervised_lag(no2_harian_filled)\n",
    "print(df.head())"
   ]
  },
  {
   "cell_type": "markdown",
   "id": "627a09f6",
   "metadata": {},
   "source": [
    "## Scalling Min-Max Normalization"
   ]
  },
  {
   "cell_type": "code",
   "execution_count": 15,
   "id": "6eae894f",
   "metadata": {},
   "outputs": [],
   "source": [
    "from sklearn.preprocessing import MinMaxScaler\n",
    "scaler = MinMaxScaler(feature_range=(0,1))\n",
    "\n",
    "cols_to_scale = [c for c in df.columns if c != 't']\n",
    "\n",
    "df_scaled = df.copy()\n",
    "df_scaled[cols_to_scale] = scaler.fit_transform(df_scaled[cols_to_scale])\n",
    "\n",
    "df_scaled.head()\n",
    "\n",
    "df = df_scaled.copy()\n",
    "\n",
    "df.to_csv('dataset/data2.csv',index=False)"
   ]
  }
 ],
 "metadata": {
  "kernelspec": {
   "display_name": "Python 3",
   "language": "python",
   "name": "python3"
  },
  "language_info": {
   "codemirror_mode": {
    "name": "ipython",
    "version": 3
   },
   "file_extension": ".py",
   "mimetype": "text/x-python",
   "name": "python",
   "nbconvert_exporter": "python",
   "pygments_lexer": "ipython3",
   "version": "3.11.7"
  }
 },
 "nbformat": 4,
 "nbformat_minor": 5
}