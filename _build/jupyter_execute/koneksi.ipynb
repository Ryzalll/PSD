{
 "cells": [
  {
   "cell_type": "code",
   "execution_count": 1,
   "id": "14776c6a",
   "metadata": {},
   "outputs": [],
   "source": [
    "import pandas as pd\n",
    "import mysql.connector\n",
    "import psycopg2\n",
    "\n",
    "def load_data():\n",
    "    conn = mysql.connector.connect(\n",
    "        host=\"localhost\",\n",
    "        user=\"root\",\n",
    "        password=\"\",\n",
    "        database=\"psd_dataset\",\n",
    "        port=3306\n",
    "    )\n",
    "    query_mysql = \"\"\"\n",
    "    SELECT \n",
    "        id,\n",
    "        Species as species,\n",
    "        `SepalLengthCm`  AS sepal_length,\n",
    "        `SepalWidthCm`   AS sepal_width,\n",
    "        `PetalLengthCm`  AS petal_length,\n",
    "        `PetalWidthCm`   AS petal_width\n",
    "    FROM iris\n",
    "    \"\"\"\n",
    "    my_df_mysql = pd.read_sql(query_mysql, conn)\n",
    "    conn.close()\n",
    "\n",
    "    conn = psycopg2.connect(\n",
    "        host=\"localhost\",\n",
    "        user=\"postgres\",\n",
    "        password=\"1234\",\n",
    "        database=\"psd_dataset\",\n",
    "        port=5432\n",
    "    )\n",
    "    query_pg = \"\"\"\n",
    "    SELECT \n",
    "        id,\n",
    "        species,\n",
    "        sepallengthcm AS sepal_length,\n",
    "        sepalwidthcm AS sepal_width,\n",
    "        petallengthcm AS petal_length,\n",
    "        petalwidthcm AS petal_width\n",
    "    FROM public.iris_dataset\n",
    "    \"\"\"\n",
    "    pg_df = pd.read_sql(query_pg, conn)\n",
    "    conn.close()\n",
    "\n",
    "    kolom_mysql = [\"id\",\"species\",\"sepal_length\"]\n",
    "    kolom_pgsql = [c for c in pg_df.columns if c not in kolom_mysql]\n",
    "\n",
    "    df = pd.concat([my_df_mysql[kolom_mysql], pg_df[kolom_pgsql]], axis = 1)\n",
    "    return df\n"
   ]
  }
 ],
 "metadata": {
  "kernelspec": {
   "display_name": "Python 3",
   "language": "python",
   "name": "python3"
  },
  "language_info": {
   "codemirror_mode": {
    "name": "ipython",
    "version": 3
   },
   "file_extension": ".py",
   "mimetype": "text/x-python",
   "name": "python",
   "nbconvert_exporter": "python",
   "pygments_lexer": "ipython3",
   "version": "3.11.7"
  }
 },
 "nbformat": 4,
 "nbformat_minor": 5
}